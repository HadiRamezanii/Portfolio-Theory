{
 "cells": [
  {
   "cell_type": "markdown",
   "id": "cb3d7dbc-df17-4eef-a9ee-b35880023161",
   "metadata": {},
   "source": [
    "## The Objectives are:\n",
    "\n",
    "1. Sharpe Ratio \n",
    "2. Treynor Measure\n",
    "3. The Alpha Jensen Measure\n",
    "4. Timing Opportunity"
   ]
  },
  {
   "cell_type": "markdown",
   "id": "66673ab9-172e-4f37-93bb-999698f8470f",
   "metadata": {
    "tags": []
   },
   "source": [
    "# I: Sharpe Ratio\n",
    "\n",
    "1. Let's start with building our dataset. First, we need some mutual funds: We are going to evaluate two mutual funds: Victory RS Global Fund and Fidelity Advisor Semiconductors Fund - Class A.  The data for these funds are in Yahoo Finance: Victory RS Global R (RGGKX) and Fidelity Advisor Semiconductors I (FELIX). The time period we want is from Feb 24, 2016 to Feb 02, 2017. Download the daily adjusted prices for these funds and compute the returns. The returns will be from Feb 25, 2016 to Feb 1, 2017. \n",
    "\n",
    "2. After getting the return data for these two funds, let's start doing the evaluation.  \n",
    "\n",
    "3. We are going to start with Sharpe Ratio. It is computed as follows:\n",
    "$$ Sharpe\\_ Ratio = \\frac{\\bar{R}_{P}-R_{F}}{\\sigma_{P}}  $$\n",
    "\n",
    "4. You need to compute the average return and the standard deviation of each fund. Also, consider the daily risk free rate $ R_{F} $ to be 0.002\\%. \n",
    "\n",
    "5. Compute the Sharpe Ratios for the funds. Which fund would you pick based on this measure and why?   "
   ]
  },
  {
   "cell_type": "code",
   "execution_count": 1,
   "id": "2a2f4072-ba1b-4f08-ac9a-8c479636b220",
   "metadata": {
    "tags": []
   },
   "outputs": [],
   "source": [
    "import pandas as pd\n",
    "import numpy as np\n",
    "import yfinance as yf\n",
    "import statsmodels.api as sm\n",
    "import matplotlib.pyplot as plt\n",
    "import pandas_datareader as pdr\n",
    "#import pandas_datareader is for fama french"
   ]
  },
  {
   "cell_type": "code",
   "execution_count": 2,
   "id": "af3ca476-c6e9-44bf-a502-ddc903f47af8",
   "metadata": {
    "tags": []
   },
   "outputs": [
    {
     "name": "stderr",
     "output_type": "stream",
     "text": [
      "[*********************100%%**********************]  2 of 2 completed"
     ]
    },
    {
     "name": "stdout",
     "output_type": "stream",
     "text": [
      "               FELIX     RGGKX\n",
      "Date                          \n",
      "2016-02-25  0.007294  0.011060\n",
      "2016-02-26  0.009413 -0.003646\n",
      "2016-02-29  0.001435 -0.005490\n",
      "2016-03-01  0.030802  0.023919\n",
      "2016-03-02  0.008339  0.005391\n",
      "...              ...       ...\n",
      "2017-01-26 -0.010130 -0.000710\n",
      "2017-01-27  0.011696 -0.000710\n",
      "2017-01-30 -0.009152 -0.007107\n",
      "2017-01-31 -0.009723  0.000716\n",
      "2017-02-01  0.007364  0.003577\n",
      "\n",
      "[237 rows x 2 columns]\n"
     ]
    },
    {
     "name": "stderr",
     "output_type": "stream",
     "text": [
      "\n"
     ]
    }
   ],
   "source": [
    "df=yf.download(\"FELIX RGGKX\", start=\"2016-02-24\", end=\"2017-02-02\")\n",
    "df=df.iloc[:,:2]\n",
    "df.columns = ['FELIX', 'RGGKX']\n",
    "daily_ret = df[['FELIX', 'RGGKX']].pct_change()\n",
    "daily_ret = daily_ret.iloc[1:,]\n",
    "print(daily_ret)"
   ]
  },
  {
   "cell_type": "code",
   "execution_count": 5,
   "id": "a9548848-e95c-41a4-9341-3327a92f46f2",
   "metadata": {
    "tags": []
   },
   "outputs": [
    {
     "name": "stdout",
     "output_type": "stream",
     "text": [
      "0.18943159439568846\n"
     ]
    }
   ],
   "source": [
    "print(daily_ret.FELIX.std()*(252**0.5))"
   ]
  },
  {
   "cell_type": "code",
   "execution_count": 6,
   "id": "cd410d6e-28bf-451d-8531-41d22a2a2730",
   "metadata": {
    "tags": []
   },
   "outputs": [
    {
     "name": "stdout",
     "output_type": "stream",
     "text": [
      "0.1369058217770265\n"
     ]
    }
   ],
   "source": [
    "print(daily_ret.RGGKX.std()*(252**0.5))"
   ]
  },
  {
   "cell_type": "code",
   "execution_count": 3,
   "id": "9456e726-da54-4e65-98bd-b8a570b999df",
   "metadata": {
    "tags": []
   },
   "outputs": [
    {
     "name": "stdout",
     "output_type": "stream",
     "text": [
      "Sharp ratio of Victory = 2.7827652780926555\n",
      "Sharp ratio of Fidelity = 2.366661348871949\n"
     ]
    }
   ],
   "source": [
    "rf=0.002/100\n",
    "excess_FELIX = (daily_ret.FELIX.mean()-rf)*252\n",
    "std_FELIX=daily_ret.FELIX.std()*(252**0.5)\n",
    "SR_FELIX = excess_FELIX/std_FELIX\n",
    "excess_RGGKX = (daily_ret.RGGKX.mean()-rf)*252\n",
    "std_RGGKX=daily_ret.RGGKX.std()*(252**0.5)\n",
    "SR_RGGKX = excess_RGGKX/std_RGGKX\n",
    "print('Sharp ratio of Victory =' , SR_RGGKX)\n",
    "print('Sharp ratio of Fidelity =' , SR_FELIX)"
   ]
  },
  {
   "cell_type": "code",
   "execution_count": 11,
   "id": "235d250c-6d98-484a-890e-a7d58841bd10",
   "metadata": {},
   "outputs": [],
   "source": [
    "                                  ###Interpretation###\n",
    "#Victory has a higher Sharpe Ratio of 2.78 compared to Fidelity's 2.37.\n",
    "#A higher Sharpe Ratio generally indicates better risk-adjusted returns.\n",
    "#It means that Victory is likely to provide a greater return per unit of risk taken compared to Fidelity.\n",
    "##It's important to note that Sharpe Ratio is just one measure of investment performance##\n",
    "##Also other factors should also be considered before making investment decisions##"
   ]
  },
  {
   "cell_type": "markdown",
   "id": "3e763ad2-3c95-4bac-9317-44dbf04acab3",
   "metadata": {
    "tags": []
   },
   "source": [
    "# II: Treynor Measure\n",
    "\n",
    "1. The Treynor measure is computed as follows: $$Treynor\\_ Ratio = \\frac{\\bar{R}_{P} -R_{F}}{\\beta}$$     \n",
    "\n",
    "2. We already have the expected return ($ \\bar{R}_{P} $) and the fixed risk-free rate ($ R_{F} $) equal to 0.002\\%. \n",
    "\n",
    "3. Let's estimate beta for each fund with the regression as follows: $$R_{Pt} -R_{Ft} =\\alpha + \\beta(R_{Mt} -R_{Ft}) + e_{Pt} $$ You need data on $ R_{Ft} $ and factors (Excess Market return, SMB and HML). Get these data from the Kenneth French website: http://mba.tuck.dartmouth.edu/pages/faculty/ken.french/data_library.html for the above dates. Do not forget to divide them by 100 (You can follow the steps in Lab3). \n",
    "\n",
    "4. To estimate the regression, you need to use package *statsmodels.api* and *sm.OLS* function to do the OLS analysis.(as we did in the Lab III). **Note: We use the series of risk-free rates ($ R_{FT} $ from Ken French website) in estimating the betas. However, when estimating the Treynor measure, we can use a fixed risk-free rate as $ R_{F} $.**\n",
    "\n",
    "5.  After estimating the betas and the Treynor ratio for each fund. Which fund would you pick based on this measure and why? "
   ]
  },
  {
   "cell_type": "code",
   "execution_count": 4,
   "id": "7ff5efe0-4575-4a1f-b0bf-d3568c77778c",
   "metadata": {
    "tags": []
   },
   "outputs": [
    {
     "name": "stderr",
     "output_type": "stream",
     "text": [
      "C:\\Users\\Hadi\\AppData\\Local\\Temp\\ipykernel_11676\\518863710.py:1: FutureWarning: The argument 'date_parser' is deprecated and will be removed in a future version. Please use 'date_format' instead, or read your data in as 'object' dtype and then call 'to_datetime'.\n",
      "  ff = pdr.get_data_famafrench('F-F_Research_Data_5_Factors_2x3_daily',start=2016, end=2018)[0]\n"
     ]
    },
    {
     "name": "stdout",
     "output_type": "stream",
     "text": [
      "            mkt_excess     SMB     HML     RMW     CMA       RF     FELIX  \\\n",
      "Date                                                                        \n",
      "2016-02-25      0.0110 -0.0044  0.0023 -0.0007 -0.0024  0.00001  0.007294   \n",
      "2016-02-26     -0.0001  0.0086  0.0029 -0.0056 -0.0004  0.00001  0.009413   \n",
      "2016-02-29     -0.0069  0.0072  0.0025  0.0013  0.0053  0.00001  0.001435   \n",
      "2016-03-01      0.0234 -0.0065  0.0039 -0.0058 -0.0061  0.00001  0.030802   \n",
      "2016-03-02      0.0054  0.0060  0.0068 -0.0070 -0.0007  0.00001  0.008339   \n",
      "...                ...     ...     ...     ...     ...      ...       ...   \n",
      "2017-01-26     -0.0010 -0.0058  0.0041 -0.0008 -0.0016  0.00002 -0.010130   \n",
      "2017-01-27     -0.0012 -0.0006 -0.0068  0.0010  0.0005  0.00002  0.011696   \n",
      "2017-01-30     -0.0068 -0.0074 -0.0046  0.0060 -0.0015  0.00002 -0.009152   \n",
      "2017-01-31      0.0000  0.0081 -0.0056 -0.0039 -0.0025  0.00002 -0.009723   \n",
      "2017-02-01      0.0003 -0.0008  0.0004  0.0022 -0.0022  0.00002  0.007364   \n",
      "\n",
      "               RGGKX  RGGKX_excess  FELIX_excess  \n",
      "Date                                              \n",
      "2016-02-25  0.011060      0.011050      0.007284  \n",
      "2016-02-26 -0.003646     -0.003656      0.009403  \n",
      "2016-02-29 -0.005490     -0.005500      0.001425  \n",
      "2016-03-01  0.023919      0.023909      0.030792  \n",
      "2016-03-02  0.005391      0.005381      0.008329  \n",
      "...              ...           ...           ...  \n",
      "2017-01-26 -0.000710     -0.000730     -0.010150  \n",
      "2017-01-27 -0.000710     -0.000730      0.011676  \n",
      "2017-01-30 -0.007107     -0.007127     -0.009172  \n",
      "2017-01-31  0.000716      0.000696     -0.009743  \n",
      "2017-02-01  0.003577      0.003557      0.007344  \n",
      "\n",
      "[237 rows x 10 columns]\n"
     ]
    }
   ],
   "source": [
    "ff = pdr.get_data_famafrench('F-F_Research_Data_5_Factors_2x3_daily',start=2016, end=2018)[0]\n",
    "# the [0] is because the imported obect is a dictionary, \n",
    "# and key=0 is the first dataframe that contains the data we need\n",
    "\n",
    "\n",
    "ff.rename(columns={\"Mkt-RF\":\"mkt_excess\"}, inplace=True)\n",
    "ff = ff/100\n",
    "ff = ff.join(daily_ret,how='inner')\n",
    "\n",
    "# convert to excess returns in prep for regressions\n",
    "for stock in ['RGGKX', 'FELIX']:    \n",
    "    ff[stock+'_excess'] = ff[stock] - ff['RF']\n",
    "\n",
    "print(ff)"
   ]
  },
  {
   "cell_type": "code",
   "execution_count": 6,
   "id": "ffde6595-2813-409f-a217-88f7b2d4346d",
   "metadata": {
    "tags": []
   },
   "outputs": [
    {
     "name": "stdout",
     "output_type": "stream",
     "text": [
      "                            OLS Regression Results                            \n",
      "==============================================================================\n",
      "Dep. Variable:           FELIX_excess   R-squared:                       0.615\n",
      "Model:                            OLS   Adj. R-squared:                  0.613\n",
      "Method:                 Least Squares   F-statistic:                     375.2\n",
      "Date:                Wed, 27 Mar 2024   Prob (F-statistic):           1.33e-50\n",
      "Time:                        21:11:47   Log-Likelihood:                 826.84\n",
      "No. Observations:                 237   AIC:                            -1650.\n",
      "Df Residuals:                     235   BIC:                            -1643.\n",
      "Df Model:                           1                                         \n",
      "Covariance Type:            nonrobust                                         \n",
      "==============================================================================\n",
      "                 coef    std err          t      P>|t|      [0.025      0.975]\n",
      "------------------------------------------------------------------------------\n",
      "const          0.0006      0.000      1.214      0.226      -0.000       0.002\n",
      "mkt_excess     1.3259      0.068     19.371      0.000       1.191       1.461\n",
      "==============================================================================\n",
      "Omnibus:                       33.897   Durbin-Watson:                   2.044\n",
      "Prob(Omnibus):                  0.000   Jarque-Bera (JB):              125.164\n",
      "Skew:                          -0.494   Prob(JB):                     6.62e-28\n",
      "Kurtosis:                       6.420   Cond. No.                         142.\n",
      "==============================================================================\n",
      "\n",
      "Notes:\n",
      "[1] Standard Errors assume that the covariance matrix of the errors is correctly specified.\n"
     ]
    }
   ],
   "source": [
    "y=ff.FELIX_excess\n",
    "x=ff.mkt_excess\n",
    "res_FELIX = sm.OLS(y, sm.add_constant(x)).fit()\n",
    "print(res_FELIX.summary())"
   ]
  },
  {
   "cell_type": "code",
   "execution_count": 7,
   "id": "a0f6cdfa-bb7c-4a9b-822b-989043bf48f0",
   "metadata": {},
   "outputs": [
    {
     "name": "stdout",
     "output_type": "stream",
     "text": [
      "Beta of Fidelity  = 1.3259370700421362\n"
     ]
    }
   ],
   "source": [
    "Beta = res_FELIX.params[1]\n",
    "print('Beta of Fidelity  =', Beta)"
   ]
  },
  {
   "cell_type": "code",
   "execution_count": null,
   "id": "18759391-fb9b-4e60-97c1-f8b3ed1e493b",
   "metadata": {},
   "outputs": [],
   "source": [
    "                                  ###Interpretation###\n",
    "#The model is well-specified.\n",
    "#The adjusted R^2 is of an acceptable size, considering that the model is a uni-variate model.\n",
    "#The Durbin-Watson statistic also shows that there is no autocorrelation in the model.\n",
    "#The t-statistic and p-value indicate that the Beta is well-estimated  significant at the 99% confidence level.\n",
    "#The Beta value is 1.33, which indicates that this asset has more systematic risk than the market.\n",
    "#This means that this stock will react more strongly, both positively and negatively, to changes in market returns.\n",
    "#This type of asset is recommended for times when the overall market is expected to have an upward trend."
   ]
  },
  {
   "cell_type": "code",
   "execution_count": 8,
   "id": "67360599-6b71-4b49-b243-b3b5f539d3a3",
   "metadata": {
    "tags": []
   },
   "outputs": [
    {
     "name": "stdout",
     "output_type": "stream",
     "text": [
      "                            OLS Regression Results                            \n",
      "==============================================================================\n",
      "Dep. Variable:           RGGKX_excess   R-squared:                       0.620\n",
      "Model:                            OLS   Adj. R-squared:                  0.618\n",
      "Method:                 Least Squares   F-statistic:                     383.2\n",
      "Date:                Wed, 27 Mar 2024   Prob (F-statistic):           2.90e-51\n",
      "Time:                        21:12:15   Log-Likelihood:                 905.33\n",
      "No. Observations:                 237   AIC:                            -1807.\n",
      "Df Residuals:                     235   BIC:                            -1800.\n",
      "Df Model:                           1                                         \n",
      "Covariance Type:            nonrobust                                         \n",
      "==============================================================================\n",
      "                 coef    std err          t      P>|t|      [0.025      0.975]\n",
      "------------------------------------------------------------------------------\n",
      "const          0.0007      0.000      1.868      0.063   -3.57e-05       0.001\n",
      "mkt_excess     0.9621      0.049     19.575      0.000       0.865       1.059\n",
      "==============================================================================\n",
      "Omnibus:                      292.220   Durbin-Watson:                   1.761\n",
      "Prob(Omnibus):                  0.000   Jarque-Bera (JB):            27037.381\n",
      "Skew:                           5.056   Prob(JB):                         0.00\n",
      "Kurtosis:                      54.339   Cond. No.                         142.\n",
      "==============================================================================\n",
      "\n",
      "Notes:\n",
      "[1] Standard Errors assume that the covariance matrix of the errors is correctly specified.\n"
     ]
    }
   ],
   "source": [
    "y=ff.RGGKX_excess\n",
    "x=ff.mkt_excess\n",
    "res_RGGKX = sm.OLS(y, sm.add_constant(x)).fit()\n",
    "print(res_RGGKX.summary())"
   ]
  },
  {
   "cell_type": "code",
   "execution_count": 9,
   "id": "dc49671e-7c60-4c1c-baa0-2741b4d8f09c",
   "metadata": {},
   "outputs": [
    {
     "name": "stdout",
     "output_type": "stream",
     "text": [
      "Beta of victory  = 0.9621439656685487\n"
     ]
    }
   ],
   "source": [
    "Beta = res_RGGKX.params[1]\n",
    "print('Beta of victory  =', Beta)"
   ]
  },
  {
   "cell_type": "code",
   "execution_count": null,
   "id": "ee21e5cd-fd5b-4b74-92b5-5c1dfc20c112",
   "metadata": {},
   "outputs": [],
   "source": [
    "                                  ###Interpretation###\n",
    "#The model is well-specified.\n",
    "#The adjusted R^2 is of an acceptable size, considering that the model is a uni-variate model.\n",
    "#The Durbin-Watson statistic slightly shows that there is no autocorrelation in the model.\n",
    "#The t-statistic and p-value indicate that the Beta is well-estimated  significant at the 99% confidence level.\n",
    "#The Beta value is .97, which indicates that this asset has less or equal systematic risk in comparison with market.\n",
    "#This means that this stock will react similarly, both positively and negatively, to changes in market returns.\n",
    "#This type of asset is recommended for times when the overall market is expected to have an stable range of fluctuations."
   ]
  },
  {
   "cell_type": "code",
   "execution_count": 10,
   "id": "6f0e4c41-f5d5-4e7f-a4ff-ea30b3afdfaa",
   "metadata": {
    "tags": []
   },
   "outputs": [
    {
     "name": "stdout",
     "output_type": "stream",
     "text": [
      "Treynor ratio of Victory = 0.3959667693189455\n",
      "Treynor ratio of Fidelity = 0.33811626500763986\n"
     ]
    }
   ],
   "source": [
    "treynor_RGGKX = (daily_ret['RGGKX'].mean()-rf)*252/res_RGGKX.params[1]\n",
    "print('Treynor ratio of Victory =', treynor_RGGKX)\n",
    "treynor_FELIX = (daily_ret['FELIX'].mean()-rf)*252/res_FELIX.params[1]\n",
    "print('Treynor ratio of Fidelity =', treynor_FELIX)"
   ]
  },
  {
   "cell_type": "code",
   "execution_count": 44,
   "id": "10731fd4-7b9f-49bd-a1d8-16ad4add7839",
   "metadata": {},
   "outputs": [],
   "source": [
    "                                  ###Interpretation###\n",
    "#Based on the Treynor Ratio, Victory appears to be a better choice for risk-adjusted returns compared to the market.\n",
    "#The Treynor ratio of Victory (0.396) is higher than that of Fidelity (0.338)\n",
    "#Indicating Victory potentially offers a higher return per unit of risk taken relative to the market."
   ]
  },
  {
   "cell_type": "markdown",
   "id": "5af793c1-a6eb-43ed-a075-734f97de8384",
   "metadata": {},
   "source": [
    "# III: Jensen measure (or Jensen's alpha)\n",
    "\n",
    "1. The Jensen measure (alpha $\\alpha_{P}$) is estimated the constant in the following regression\n",
    "$$  R_{Pt}-R_{Ft}  = \\alpha_{P} +  \\beta_{P}(R_{Mt}-R_{Ft}) + e_{Pt} $$     \n",
    "\n",
    "2. You have estimated this regression in previous section. What is the alpha value for each fund? What do they mean? And based on the alpha (Jensen measure), which fund would you pick?"
   ]
  },
  {
   "cell_type": "code",
   "execution_count": 11,
   "id": "cd2a9abd-d26b-4348-8596-7296e1d01d16",
   "metadata": {
    "tags": []
   },
   "outputs": [
    {
     "name": "stdout",
     "output_type": "stream",
     "text": [
      "                            OLS Regression Results                            \n",
      "==============================================================================\n",
      "Dep. Variable:           RGGKX_excess   R-squared:                       0.624\n",
      "Model:                            OLS   Adj. R-squared:                  0.619\n",
      "Method:                 Least Squares   F-statistic:                     128.9\n",
      "Date:                Wed, 27 Mar 2024   Prob (F-statistic):           3.17e-49\n",
      "Time:                        21:13:35   Log-Likelihood:                 906.62\n",
      "No. Observations:                 237   AIC:                            -1805.\n",
      "Df Residuals:                     233   BIC:                            -1791.\n",
      "Df Model:                           3                                         \n",
      "Covariance Type:            nonrobust                                         \n",
      "==============================================================================\n",
      "                 coef    std err          t      P>|t|      [0.025      0.975]\n",
      "------------------------------------------------------------------------------\n",
      "const          0.0006      0.000      1.817      0.071   -5.37e-05       0.001\n",
      "mkt_excess     0.9848      0.055     18.021      0.000       0.877       1.092\n",
      "SMB           -0.0945      0.069     -1.379      0.169      -0.230       0.041\n",
      "HML            0.0591      0.065      0.905      0.366      -0.070       0.188\n",
      "==============================================================================\n",
      "Omnibus:                      301.582   Durbin-Watson:                   1.759\n",
      "Prob(Omnibus):                  0.000   Jarque-Bera (JB):            30351.259\n",
      "Skew:                           5.321   Prob(JB):                         0.00\n",
      "Kurtosis:                      57.409   Cond. No.                         216.\n",
      "==============================================================================\n",
      "\n",
      "Notes:\n",
      "[1] Standard Errors assume that the covariance matrix of the errors is correctly specified.\n"
     ]
    }
   ],
   "source": [
    "x=ff[['mkt_excess', 'SMB','HML']]\n",
    "y=ff.RGGKX_excess\n",
    "res_RGGKX=sm.OLS(y, sm.add_constant(x)).fit()\n",
    "print(res_RGGKX.summary())"
   ]
  },
  {
   "cell_type": "code",
   "execution_count": 12,
   "id": "f9b0972f-32b6-4444-8d72-8935aa4d6c9d",
   "metadata": {},
   "outputs": [
    {
     "name": "stdout",
     "output_type": "stream",
     "text": [
      "Alpha of victory  = 0.0006364708483561244\n"
     ]
    }
   ],
   "source": [
    "Alpha = res_RGGKX.params[0]\n",
    "print('Alpha of victory  =', Alpha)"
   ]
  },
  {
   "cell_type": "code",
   "execution_count": null,
   "id": "fadd16c9-3e2e-4331-9fcf-8975447446d2",
   "metadata": {},
   "outputs": [],
   "source": [
    "                                  ###Interpretation###\n",
    "#The model is well-specified.\n",
    "#The adjusted R^2 is not of an acceptable size, considering that the model has been changed to a multi-variate model.\n",
    "#The Durbin-Watson statistic slightly shows that there is no autocorrelation in the model.\n",
    "#The t-statistic and p-value for intercept indicate that the Alpha is not well-estimated\n",
    "#significant level is the 93% it means almost 90%.\n",
    "#The Alpha value is .00064, which indicates that this asset has greater return in comparison with to Rf as risk free rate."
   ]
  },
  {
   "cell_type": "code",
   "execution_count": 14,
   "id": "aa90b92c-a980-4d0d-8618-43503a06a700",
   "metadata": {
    "tags": []
   },
   "outputs": [
    {
     "name": "stdout",
     "output_type": "stream",
     "text": [
      "                            OLS Regression Results                            \n",
      "==============================================================================\n",
      "Dep. Variable:           FELIX_excess   R-squared:                       0.630\n",
      "Model:                            OLS   Adj. R-squared:                  0.625\n",
      "Method:                 Least Squares   F-statistic:                     132.0\n",
      "Date:                Wed, 27 Mar 2024   Prob (F-statistic):           5.40e-50\n",
      "Time:                        21:13:57   Log-Likelihood:                 831.46\n",
      "No. Observations:                 237   AIC:                            -1655.\n",
      "Df Residuals:                     233   BIC:                            -1641.\n",
      "Df Model:                           3                                         \n",
      "Covariance Type:            nonrobust                                         \n",
      "==============================================================================\n",
      "                 coef    std err          t      P>|t|      [0.025      0.975]\n",
      "------------------------------------------------------------------------------\n",
      "const          0.0006      0.000      1.307      0.192      -0.000       0.002\n",
      "mkt_excess     1.2656      0.075     16.865      0.000       1.118       1.413\n",
      "SMB            0.2495      0.094      2.651      0.009       0.064       0.435\n",
      "HML           -0.1527      0.090     -1.704      0.090      -0.329       0.024\n",
      "==============================================================================\n",
      "Omnibus:                       30.592   Durbin-Watson:                   1.993\n",
      "Prob(Omnibus):                  0.000   Jarque-Bera (JB):               99.054\n",
      "Skew:                          -0.475   Prob(JB):                     3.10e-22\n",
      "Kurtosis:                       6.021   Cond. No.                         216.\n",
      "==============================================================================\n",
      "\n",
      "Notes:\n",
      "[1] Standard Errors assume that the covariance matrix of the errors is correctly specified.\n"
     ]
    }
   ],
   "source": [
    "x=ff[['mkt_excess', 'SMB','HML']]\n",
    "y=ff.FELIX_excess\n",
    "res_FELIX=sm.OLS(y, sm.add_constant(x)).fit()\n",
    "print(res_FELIX.summary())"
   ]
  },
  {
   "cell_type": "code",
   "execution_count": 15,
   "id": "8149cd11-9303-49eb-bd07-1606821e309c",
   "metadata": {},
   "outputs": [
    {
     "name": "stdout",
     "output_type": "stream",
     "text": [
      "Alpha of Fidelity  = 0.0006289415106662784\n"
     ]
    }
   ],
   "source": [
    "Alpha = res_FELIX.params[0]\n",
    "print('Alpha of Fidelity  =', Alpha)"
   ]
  },
  {
   "cell_type": "code",
   "execution_count": null,
   "id": "08c4049e-bfca-4b4d-a59c-74fdb2dedde2",
   "metadata": {},
   "outputs": [],
   "source": [
    "                                  ###Interpretation###\n",
    "#The model is well-specified.\n",
    "#The adjusted R^2 is not of an acceptable size, considering that the model has been changed to a multi-variate model.\n",
    "#The Durbin-Watson statistic slightly shows that there is no autocorrelation in the model.\n",
    "#The t-statistic and p-value for intercept indicate that the Alpha is not well-estimated.\n",
    "#significant level is the 81% it means that statistically is not valid estimated coefficient.\n",
    "#The Alpha value is .00063, which indicates that this asset has greater return in comparison with to Rf as risk free rate."
   ]
  },
  {
   "cell_type": "code",
   "execution_count": 16,
   "id": "cb81b45a-f1f3-47b0-88f1-32fdbbff6874",
   "metadata": {},
   "outputs": [
    {
     "name": "stdout",
     "output_type": "stream",
     "text": [
      "Risk Free Rate  = 0.0002\n",
      "Alpha of victory  = 0.00064\n",
      "Alpha of Fidelity  = 0.00063\n"
     ]
    }
   ],
   "source": [
    "print('Risk Free Rate  =', 0.0002)\n",
    "print('Alpha of victory  =', 0.00064)\n",
    "print('Alpha of Fidelity  =', 0.00063)"
   ]
  },
  {
   "cell_type": "code",
   "execution_count": 68,
   "id": "4e35fc91-e320-4355-b57f-cd67d13761ce",
   "metadata": {},
   "outputs": [],
   "source": [
    "                                  ###Interpretation###\n",
    "#Both Victory and Fidelity seem to have positive Jensen's Alphas\n",
    "#With Victory having a slightly higher alpha of 0.00064 compared to Fidelity's 0.00063.\n",
    "#A positive Jensen's Alpha indicates that historically, these funds have outperformed the risk free rate.\n",
    "#In simpler terms, they've delivered returns above what would be predicted by just the overall market movement."
   ]
  },
  {
   "cell_type": "code",
   "execution_count": 18,
   "id": "2e186b3a-b733-4ad9-953c-32231e47b8cd",
   "metadata": {},
   "outputs": [
    {
     "data": {
      "text/html": [
       "<style type=\"text/css\">\n",
       "#T_1a59b_row0_col0 {\n",
       "  background-color: #67000d;\n",
       "  color: #f1f1f1;\n",
       "}\n",
       "#T_1a59b_row0_col1 {\n",
       "  background-color: #aa1016;\n",
       "  color: #f1f1f1;\n",
       "}\n",
       "#T_1a59b_row1_col0 {\n",
       "  background-color: #fedbcc;\n",
       "  color: #000000;\n",
       "}\n",
       "#T_1a59b_row1_col1 {\n",
       "  background-color: #fee1d3;\n",
       "  color: #000000;\n",
       "}\n",
       "#T_1a59b_row2_col0, #T_1a59b_row2_col1 {\n",
       "  background-color: #fff5f0;\n",
       "  color: #000000;\n",
       "}\n",
       "</style>\n",
       "<table id=\"T_1a59b\">\n",
       "  <thead>\n",
       "    <tr>\n",
       "      <th class=\"blank level0\" >&nbsp;</th>\n",
       "      <th id=\"T_1a59b_level0_col0\" class=\"col_heading level0 col0\" >Victory</th>\n",
       "      <th id=\"T_1a59b_level0_col1\" class=\"col_heading level0 col1\" >Fidelity</th>\n",
       "    </tr>\n",
       "  </thead>\n",
       "  <tbody>\n",
       "    <tr>\n",
       "      <th id=\"T_1a59b_level0_row0\" class=\"row_heading level0 row0\" >Sharpe Ratio</th>\n",
       "      <td id=\"T_1a59b_row0_col0\" class=\"data row0 col0\" >2.780000</td>\n",
       "      <td id=\"T_1a59b_row0_col1\" class=\"data row0 col1\" >2.380000</td>\n",
       "    </tr>\n",
       "    <tr>\n",
       "      <th id=\"T_1a59b_level0_row1\" class=\"row_heading level0 row1\" >Treynor Ratio</th>\n",
       "      <td id=\"T_1a59b_row1_col0\" class=\"data row1 col0\" >0.396000</td>\n",
       "      <td id=\"T_1a59b_row1_col1\" class=\"data row1 col1\" >0.338000</td>\n",
       "    </tr>\n",
       "    <tr>\n",
       "      <th id=\"T_1a59b_level0_row2\" class=\"row_heading level0 row2\" >Jensen's Alpha</th>\n",
       "      <td id=\"T_1a59b_row2_col0\" class=\"data row2 col0\" >0.000640</td>\n",
       "      <td id=\"T_1a59b_row2_col1\" class=\"data row2 col1\" >0.000630</td>\n",
       "    </tr>\n",
       "  </tbody>\n",
       "</table>\n"
      ],
      "text/plain": [
       "<pandas.io.formats.style.Styler at 0x205956f42d0>"
      ]
     },
     "execution_count": 18,
     "metadata": {},
     "output_type": "execute_result"
    }
   ],
   "source": [
    "import pandas as pd\n",
    "\n",
    "# Indexes\n",
    "ratios = [\"Sharpe Ratio\", \"Treynor Ratio\", \"Jensen's Alpha\"]\n",
    "\n",
    "# Assets\n",
    "stocks = {\n",
    "    \"Victory\": [2.78, 0.396, 0.00064],\n",
    "    \"Fidelity\": [2.38, 0.338, 0.00063]\n",
    "}\n",
    "\n",
    "# Make DataFrame\n",
    "df = pd.DataFrame(stocks, index=ratios)\n",
    "\n",
    "# Styling the DataFrame\n",
    "styled_df = df.style.background_gradient(cmap=\"Reds\", axis=None, subset=None)\n",
    "\n",
    "# Display the styled DataFrame\n",
    "styled_df"
   ]
  },
  {
   "cell_type": "code",
   "execution_count": 21,
   "id": "5ac3336b-c177-44be-9fbf-521c1d7d1c12",
   "metadata": {},
   "outputs": [
    {
     "data": {
      "image/png": "[encoded data removed]",
      "text/plain": [
       "<Figure size 800x600 with 2 Axes>"
      ]
     },
     "metadata": {},
     "output_type": "display_data"
    }
   ],
   "source": [
    "import pandas as pd\n",
    "import seaborn as sns\n",
    "import matplotlib.pyplot as plt\n",
    "\n",
    "# Indexes\n",
    "ratios = [\"Sharpe Ratio\", \"Treynor Ratio\", \"Jensen's Alpha\"]\n",
    "\n",
    "# Assets\n",
    "stocks = {\n",
    "    \"Victory\": [2.78, 0.396, 0.00064],\n",
    "    \"Fidelity\": [2.38, 0.338, 0.00063]\n",
    "}\n",
    "\n",
    "# Make DataFrame\n",
    "df = pd.DataFrame(stocks, index=ratios)\n",
    "\n",
    "# Create a heatmap using seaborn\n",
    "plt.figure(figsize=(8, 6))\n",
    "sns.heatmap(df, annot=True, cmap=\"YlGnBu\", fmt=\".5f\", linewidths=.5)\n",
    "plt.title(\"Stock Performance Metrics\")\n",
    "plt.xlabel(\"Assets\")\n",
    "plt.ylabel(\"Metrics\")\n",
    "plt.show()"
   ]
  },
  {
   "cell_type": "code",
   "execution_count": 26,
   "id": "3730d6e7-0ae7-460d-9972-26a57f89ca02",
   "metadata": {},
   "outputs": [
    {
     "data": {
      "text/markdown": [
       "<strong style='color: green;'>\"Victory\" stock is better than \"Fidelity\" stock.</strong>"
      ],
      "text/plain": [
       "<IPython.core.display.Markdown object>"
      ]
     },
     "metadata": {},
     "output_type": "display_data"
    }
   ],
   "source": [
    "victory_better = True\n",
    "\n",
    "from IPython.display import Markdown, display\n",
    "\n",
    "# Define the output message with HTML styling\n",
    "if victory_better:\n",
    "    message = \"<strong style='color: green;'>\\\"Victory\\\" stock is better than \\\"Fidelity\\\" stock.</strong>\"\n",
    "else:\n",
    "    message = \"<strong style='color: red;'>\\\"Fidelity\\\" stock is better than \\\"Victory\\\" stock.</strong>\"\n",
    "\n",
    "# Display the output message\n",
    "display(Markdown(message))"
   ]
  },
  {
   "cell_type": "markdown",
   "id": "9ae6b81f-61b4-4b3a-9784-adbead56248e",
   "metadata": {},
   "source": [
    "# IV: Timing\n",
    "\n",
    "We are going to see whether there is market timing in these two funds.\n",
    "\n",
    "1. In order to check for market timing, we are going to estimate the following regression: $$(R_{it}-R_{Ft}) = a_{i} + b_{i}(R_{mt}-R_{Ft}) + c_{i}(R_{mt}-R_{Ft})^{2} + e_{it}  $$     \n",
    "\n",
    "2. We already have $ (R_{mt}-R_{Ft}) $. Let's calculate $ (R_{mt}-R_{Ft})^{2} $. You need to calculate the square value of Mkt-Rf in a new column.  \n",
    "\n",
    "3. The next step is to run the regression and find out the values of $ b_{i} $ and $ c_{i} $ for each fund and discuss whether there is any market timing ability in each fund (Pay attention to the p-values of the estimates to find whether the values are significant or not). "
   ]
  },
  {
   "cell_type": "code",
   "execution_count": 27,
   "id": "ccbf2b56-3952-4e6c-b547-274cc95f84c2",
   "metadata": {
    "tags": []
   },
   "outputs": [
    {
     "name": "stdout",
     "output_type": "stream",
     "text": [
      "                            OLS Regression Results                            \n",
      "==============================================================================\n",
      "Dep. Variable:           RGGKX_excess   R-squared:                       0.635\n",
      "Model:                            OLS   Adj. R-squared:                  0.632\n",
      "Method:                 Least Squares   F-statistic:                     203.4\n",
      "Date:                Wed, 27 Mar 2024   Prob (F-statistic):           6.53e-52\n",
      "Time:                        21:20:20   Log-Likelihood:                 910.09\n",
      "No. Observations:                 237   AIC:                            -1814.\n",
      "Df Residuals:                     234   BIC:                            -1804.\n",
      "Df Model:                           2                                         \n",
      "Covariance Type:            nonrobust                                         \n",
      "==============================================================================\n",
      "                 coef    std err          t      P>|t|      [0.025      0.975]\n",
      "------------------------------------------------------------------------------\n",
      "const          0.0011      0.000      2.973      0.003       0.000       0.002\n",
      "mkt_excess     0.9450      0.049     19.448      0.000       0.849       1.041\n",
      "mkt_exsq      -8.7776      2.836     -3.095      0.002     -14.366      -3.190\n",
      "==============================================================================\n",
      "Omnibus:                      305.797   Durbin-Watson:                   1.718\n",
      "Prob(Omnibus):                  0.000   Jarque-Bera (JB):            29697.797\n",
      "Skew:                           5.481   Prob(JB):                         0.00\n",
      "Kurtosis:                      56.733   Cond. No.                     8.34e+03\n",
      "==============================================================================\n",
      "\n",
      "Notes:\n",
      "[1] Standard Errors assume that the covariance matrix of the errors is correctly specified.\n",
      "[2] The condition number is large, 8.34e+03. This might indicate that there are\n",
      "strong multicollinearity or other numerical problems.\n"
     ]
    }
   ],
   "source": [
    "ff['mkt_exsq'] = (ff['mkt_excess'])**2\n",
    "x=ff[['mkt_excess', 'mkt_exsq']]\n",
    "                     \n",
    "y=ff.RGGKX_excess\n",
    "res_RGGKX = sm.OLS(y,sm.add_constant(x)).fit()\n",
    "print(res_RGGKX.summary())"
   ]
  },
  {
   "cell_type": "code",
   "execution_count": null,
   "id": "679f8661-53f5-4b4e-894f-5381df092585",
   "metadata": {},
   "outputs": [],
   "source": [
    "                                  ###Interpretation###\n",
    "#The model is well-specified.\n",
    "#The adjusted R^2 is of an acceptable size, considering that the model has been changed to a multi-variate model.\n",
    "#The Durbin-Watson statistic slightly shows that there is no autocorrelation in the model.\n",
    "#The t-statistic and p-value for all estimated coefficient indicate that the significant level is the 99%."
   ]
  },
  {
   "cell_type": "code",
   "execution_count": 28,
   "id": "6a5d1d0b-58fa-48bc-886e-a72b7c667cf6",
   "metadata": {},
   "outputs": [
    {
     "name": "stdout",
     "output_type": "stream",
     "text": [
      "                            OLS Regression Results                            \n",
      "==============================================================================\n",
      "Dep. Variable:           FELIX_excess   R-squared:                       0.619\n",
      "Model:                            OLS   Adj. R-squared:                  0.616\n",
      "Method:                 Least Squares   F-statistic:                     190.3\n",
      "Date:                Wed, 27 Mar 2024   Prob (F-statistic):           8.65e-50\n",
      "Time:                        21:20:33   Log-Likelihood:                 828.18\n",
      "No. Observations:                 237   AIC:                            -1650.\n",
      "Df Residuals:                     234   BIC:                            -1640.\n",
      "Df Model:                           2                                         \n",
      "Covariance Type:            nonrobust                                         \n",
      "==============================================================================\n",
      "                 coef    std err          t      P>|t|      [0.025      0.975]\n",
      "------------------------------------------------------------------------------\n",
      "const          0.0009      0.001      1.765      0.079      -0.000       0.002\n",
      "mkt_excess     1.3132      0.069     19.127      0.000       1.178       1.448\n",
      "mkt_exsq      -6.5370      4.007     -1.631      0.104     -14.432       1.358\n",
      "==============================================================================\n",
      "Omnibus:                       35.740   Durbin-Watson:                   2.063\n",
      "Prob(Omnibus):                  0.000   Jarque-Bera (JB):              138.797\n",
      "Skew:                          -0.513   Prob(JB):                     7.25e-31\n",
      "Kurtosis:                       6.606   Cond. No.                     8.34e+03\n",
      "==============================================================================\n",
      "\n",
      "Notes:\n",
      "[1] Standard Errors assume that the covariance matrix of the errors is correctly specified.\n",
      "[2] The condition number is large, 8.34e+03. This might indicate that there are\n",
      "strong multicollinearity or other numerical problems.\n"
     ]
    }
   ],
   "source": [
    "ff['mkt_exsq'] = (ff['mkt_excess'])**2\n",
    "x=ff[['mkt_excess', 'mkt_exsq']]\n",
    "\n",
    "y=ff.FELIX_excess\n",
    "res_FELIX = sm.OLS(y,sm.add_constant(x)).fit()\n",
    "print(res_FELIX.summary())"
   ]
  },
  {
   "cell_type": "code",
   "execution_count": null,
   "id": "19b9bb1d-c5fd-443f-a79f-33e9e4a32223",
   "metadata": {},
   "outputs": [],
   "source": [
    "                                  ###Interpretation###\n",
    "#The model is well-specified.\n",
    "#The adjusted R^2 is of an acceptable size, considering that the model has been changed to a multi-variate model.\n",
    "#The Durbin-Watson statistic slightly shows that there is no autocorrelation in the model.\n",
    "#The t-statistic and p-value for market excess shows that the estimation is well-defined and significant level is the 99%.\n",
    "#The t-statistic and p-value for intercept and (market excess)^2 shows that the significant level is almost 90%."
   ]
  },
  {
   "cell_type": "code",
   "execution_count": 29,
   "id": "7fbe92f6-6ff4-472f-bb7d-8bb942ecb188",
   "metadata": {
    "tags": []
   },
   "outputs": [
    {
     "data": {
      "image/png": "[encoded data removed]",
      "text/plain": [
       "<Figure size 1000x1000 with 1 Axes>"
      ]
     },
     "metadata": {},
     "output_type": "display_data"
    }
   ],
   "source": [
    "import numpy as np\n",
    "import matplotlib.pyplot as plt\n",
    "\n",
    "# Assuming `res_RGGKX` contains the results of your regression\n",
    "coef = np.array(res_RGGKX.params)\n",
    "\n",
    "# Corrected the spelling of `np.arange`\n",
    "x_bar = np.arange(x.mkt_excess.min(), x.mkt_excess.max(),\n",
    "                  (x.mkt_excess.max()-x.mkt_excess.min())/1000)\n",
    "\n",
    "# Corrected the variable name typo from `x-bar` to `x_bar`\n",
    "y1_pred = coef[0] + coef[1]*x_bar + coef[2]*(x_bar**2)\n",
    "\n",
    "plt.subplots(figsize=[10, 10])\n",
    "\n",
    "# Corrected the function name from `plt.xlable` to `plt.xlabel`\n",
    "plt.xlabel('Market Excess Return', fontsize=18)\n",
    "plt.ylabel('RGGKX Excess Return', fontsize=18)\n",
    "\n",
    "# Corrected the variable name typo from `y` to `y1_pred`\n",
    "plt.scatter(x.mkt_excess, y, marker='o', s=15, alpha=1)\n",
    "plt.scatter(x_bar, y1_pred, marker='x', s=3)\n",
    "plt.show()"
   ]
  },
  {
   "cell_type": "code",
   "execution_count": 30,
   "id": "bd7e43a6-002b-463f-b514-bdc830511e57",
   "metadata": {},
   "outputs": [
    {
     "data": {
      "image/png": "[encoded data removed]",
      "text/plain": [
       "<Figure size 1000x1000 with 1 Axes>"
      ]
     },
     "metadata": {},
     "output_type": "display_data"
    }
   ],
   "source": [
    "import numpy as np\n",
    "import matplotlib.pyplot as plt\n",
    "\n",
    "# Assuming `res_FELIX` contains the results of your regression\n",
    "coef = np.array(res_FELIX.params)\n",
    "\n",
    "# Corrected the spelling of `np.arange`\n",
    "x_bar = np.arange(x.mkt_excess.min(), x.mkt_excess.max(),\n",
    "                  (x.mkt_excess.max()-x.mkt_excess.min())/1000)\n",
    "\n",
    "# Corrected the variable name typo from `x-bar` to `x_bar`\n",
    "y1_pred = coef[0] + coef[1]*x_bar + coef[2]*(x_bar**2)\n",
    "\n",
    "plt.subplots(figsize=[10, 10])\n",
    "\n",
    "# Corrected the function name from `plt.xlable` to `plt.xlabel`\n",
    "plt.xlabel('Market Excess Return', fontsize=18)\n",
    "plt.ylabel('FELIX Excess Return', fontsize=18)\n",
    "\n",
    "# Corrected the variable name typo from `y` to `y1_pred`\n",
    "plt.scatter(x.mkt_excess, y, marker='o', s=15, alpha=1)\n",
    "plt.scatter(x_bar, y1_pred, marker='x', s=3)\n",
    "plt.show()"
   ]
  },
  {
   "cell_type": "code",
   "execution_count": null,
   "id": "ebf6cc55-045b-4973-a9ef-c1293f9e1e73",
   "metadata": {},
   "outputs": [],
   "source": [
    "#Given the obtained shapes which resemble an inverted parabola, and according to the timing theory...\n",
    "#the market conditions are not favorable for borrowing and investing in risky assets.\n",
    "#Financial managers should be aware that they should opt for less risky assets in this situation.\n",
    "#Those chart indicates that the market is currently in a downward phase.\n",
    "#This phase can be caused by factors such as economic recession, rising interest rates, or political tensions.\n",
    "#This theory suggests that investing in risky assets, such as high-risk stocks...\n",
    "#can be less profitable during a downward market phase.\n",
    "#In such circumstances, investors should consider shifting towards less risky assets, such as bonds and gold."
   ]
  },
  {
   "cell_type": "markdown",
   "id": "d4eb4eff-c019-4649-997b-0da66daa46a1",
   "metadata": {},
   "source": [
    "## End"
   ]
  }
 ],
 "metadata": {
  "kernelspec": {
   "display_name": "Python 3 (ipykernel)",
   "language": "python",
   "name": "python3"
  },
  "language_info": {
   "codemirror_mode": {
    "name": "ipython",
    "version": 3
   },
   "file_extension": ".py",
   "mimetype": "text/x-python",
   "name": "python",
   "nbconvert_exporter": "python",
   "pygments_lexer": "ipython3",
   "version": "3.11.5"
  }
 },
 "nbformat": 4,
 "nbformat_minor": 5
}
