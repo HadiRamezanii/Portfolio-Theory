{
 "cells": [
  {
   "cell_type": "markdown",
   "id": "cb3d7dbc-df17-4eef-a9ee-b35880023161",
   "metadata": {},
   "source": [
    "## This sections Objectives are:\n",
    "\n",
    "1. Single index model\n",
    "2. Capital Asset Pricing Model (CAPM)\n",
    "3. Arbitrage Pricing Theory (APT)\n",
    "\n",
    "Let's get the historical data on adjusted closing prices of TESLA and General Electric from Yahoo using \"*yfinance*\" library. The time period we want is from Jan 16, 2019 to Dec 31, 2019. For the market, we are going to download the adjusted closing price of the S\\&P 500 index for the same period. Compute returns of individual stocks and the S\\&P 500 index, you should have daily returns from Jan 17, 2019 to Dec 30, 2019. "
   ]
  },
  {
   "cell_type": "code",
   "execution_count": 12,
   "id": "9325708f-a910-4245-93e8-8889de08e1f7",
   "metadata": {
    "tags": []
   },
   "outputs": [
    {
     "name": "stderr",
     "output_type": "stream",
     "text": [
      "[*********************100%%**********************]  3 of 3 completed"
     ]
    },
    {
     "name": "stdout",
     "output_type": "stream",
     "text": [
      "                TSLA        GE     SP500\n",
      "2019-01-17  0.017817  0.003641  0.007591\n",
      "2019-01-18 -0.008753 -0.129711  0.013183\n",
      "2019-01-22 -0.044150 -0.011050 -0.014157\n",
      "2019-01-23  0.008083 -0.037903  0.002203\n",
      "2019-01-24  0.005727  0.013631  0.001376\n",
      "...              ...       ...       ...\n",
      "2019-12-23  0.011786  0.033605  0.000866\n",
      "2019-12-24  0.002688  0.014384 -0.000195\n",
      "2019-12-26  0.003575  0.013380  0.005128\n",
      "2019-12-27 -0.004453 -0.001300  0.000034\n",
      "2019-12-30 -0.008944 -0.036433 -0.005781\n",
      "\n",
      "[240 rows x 3 columns]\n"
     ]
    },
    {
     "name": "stderr",
     "output_type": "stream",
     "text": [
      "\n"
     ]
    }
   ],
   "source": [
    "#Prepare the data we need to use in the following tasks:\n",
    "\n",
    "import pandas as pd\n",
    "import numpy as np\n",
    "import yfinance as yf\n",
    "\n",
    "df = yf.download(\"TSLA GE ^GSPC\", start=\"2019-01-16\", end=\"2019-12-31\")\n",
    "\n",
    "#keep only adj close price\n",
    "df = df.iloc[: , :3]\n",
    "df.columns = ['TSLA', 'GE', 'SP500']\n",
    "\n",
    "#Calculate daily percentage change as the return\n",
    "daily_ret = df[['TSLA', 'GE', 'SP500']].pct_change()\n",
    "daily_ret = daily_ret.iloc[1:,]\n",
    "\n",
    "daily_ret.index = daily_ret.index.date\n",
    "\n",
    "print(daily_ret)\n",
    "#daily_ret.info()"
   ]
  },
  {
   "cell_type": "markdown",
   "id": "66673ab9-172e-4f37-93bb-999698f8470f",
   "metadata": {
    "tags": []
   },
   "source": [
    "# I: Single Index Model\n",
    "\n",
    "Lets start with single index model, and please follow these steps:\n",
    "\n",
    "1. First, you should have the daily return data for TSLA, GE, and S&P 500 in the dataframe *daily_ret*. \n",
    "\n",
    "2. We want to check the Single Index Model. It is as follows: $$  R_{it} = \\alpha_{i} + \\beta_{i}R_{Mt} + e_{it}  $$ We have the returns for stocks ($ i $ is stocks TSLA and GE) and also the returns for the market ($ R_{Mt} $ is the S\\&P 500 in our model.) Now, we need to run the regression for each stock. \n",
    "\n",
    "3. To do this, first we need to import a useful package *statsmodels.api*. The *sm.OLS* function can do the OLS analysis well. Just please do not forget to add the constant as the independent variable (the Intercept). You can use print(model.summary()) to show your regression results.\n",
    "\n",
    "4. The variables that are important for us are Coefficients for Intercept and Market, p-values for these coefficients and Adjusted R-square. Explain what these values mean. "
   ]
  },
  {
   "cell_type": "code",
   "execution_count": 13,
   "id": "6fae18c3-fe7c-48a1-8dc6-2493b96517a1",
   "metadata": {
    "tags": []
   },
   "outputs": [
    {
     "name": "stdout",
     "output_type": "stream",
     "text": [
      "Requirement already satisfied: statsmodels in e:\\anaconda\\lib\\site-packages (0.14.1)\n",
      "Requirement already satisfied: numpy<2,>=1.18 in e:\\anaconda\\lib\\site-packages (from statsmodels) (1.24.3)\n",
      "Requirement already satisfied: scipy!=1.9.2,>=1.4 in e:\\anaconda\\lib\\site-packages (from statsmodels) (1.12.0)\n",
      "Requirement already satisfied: pandas!=2.1.0,>=1.0 in e:\\anaconda\\lib\\site-packages (from statsmodels) (2.0.3)\n",
      "Requirement already satisfied: patsy>=0.5.4 in e:\\anaconda\\lib\\site-packages (from statsmodels) (0.5.6)\n",
      "Requirement already satisfied: packaging>=21.3 in c:\\users\\hadi\\appdata\\roaming\\python\\python311\\site-packages (from statsmodels) (23.2)\n",
      "Requirement already satisfied: python-dateutil>=2.8.2 in c:\\users\\hadi\\appdata\\roaming\\python\\python311\\site-packages (from pandas!=2.1.0,>=1.0->statsmodels) (2.8.2)\n",
      "Requirement already satisfied: pytz>=2020.1 in e:\\anaconda\\lib\\site-packages (from pandas!=2.1.0,>=1.0->statsmodels) (2023.3.post1)\n",
      "Requirement already satisfied: tzdata>=2022.1 in e:\\anaconda\\lib\\site-packages (from pandas!=2.1.0,>=1.0->statsmodels) (2023.3)\n",
      "Requirement already satisfied: six in c:\\users\\hadi\\appdata\\roaming\\python\\python311\\site-packages (from patsy>=0.5.4->statsmodels) (1.16.0)\n"
     ]
    }
   ],
   "source": [
    "#First we need to install the statsmodels package:\n",
    "import sys\n",
    "!{sys.executable} -m pip install --upgrade statsmodels"
   ]
  },
  {
   "cell_type": "code",
   "execution_count": 14,
   "id": "cf5df33c-8d3d-4e56-9911-963cbc3c0ada",
   "metadata": {
    "tags": []
   },
   "outputs": [],
   "source": [
    "import statsmodels.api as sm"
   ]
  },
  {
   "cell_type": "markdown",
   "id": "1fcf6762-d62f-493f-896f-45a92dd71183",
   "metadata": {},
   "source": [
    "## print(sm.add_constant(daily_ret.SP500))"
   ]
  },
  {
   "cell_type": "code",
   "execution_count": 15,
   "id": "e57ef340-a13f-4c9b-b841-e1a6e6f9b53b",
   "metadata": {
    "tags": []
   },
   "outputs": [
    {
     "name": "stdout",
     "output_type": "stream",
     "text": [
      "            const     SP500\n",
      "2019-01-17    1.0  0.007591\n",
      "2019-01-18    1.0  0.013183\n",
      "2019-01-22    1.0 -0.014157\n",
      "2019-01-23    1.0  0.002203\n",
      "2019-01-24    1.0  0.001376\n",
      "...           ...       ...\n",
      "2019-12-23    1.0  0.000866\n",
      "2019-12-24    1.0 -0.000195\n",
      "2019-12-26    1.0  0.005128\n",
      "2019-12-27    1.0  0.000034\n",
      "2019-12-30    1.0 -0.005781\n",
      "\n",
      "[240 rows x 2 columns]\n"
     ]
    }
   ],
   "source": [
    "print(sm.add_constant(daily_ret.SP500))"
   ]
  },
  {
   "cell_type": "markdown",
   "id": "a9076537-ffb7-48bf-ab90-9b7ca74664a6",
   "metadata": {},
   "source": [
    "## Let's try a regression for the single index model on TSLA:"
   ]
  },
  {
   "cell_type": "code",
   "execution_count": 16,
   "id": "58da3a9f-7db4-4090-b64c-ff77c04eca9f",
   "metadata": {
    "tags": []
   },
   "outputs": [],
   "source": [
    "import statsmodels.formula.api as sm"
   ]
  },
  {
   "cell_type": "code",
   "execution_count": 17,
   "id": "0fc95972-6f6e-4327-a39e-1c4fc8d44cd7",
   "metadata": {
    "tags": []
   },
   "outputs": [],
   "source": [
    "res_TSLA = sm.ols(formula=\"TSLA ~ SP500\", data=daily_ret).fit()"
   ]
  },
  {
   "cell_type": "code",
   "execution_count": 19,
   "id": "2a2f4072-ba1b-4f08-ac9a-8c479636b220",
   "metadata": {
    "tags": []
   },
   "outputs": [
    {
     "name": "stdout",
     "output_type": "stream",
     "text": [
      "                            OLS Regression Results                            \n",
      "==============================================================================\n",
      "Dep. Variable:                   TSLA   R-squared:                       0.218\n",
      "Model:                            OLS   Adj. R-squared:                  0.214\n",
      "Method:                 Least Squares   F-statistic:                     66.23\n",
      "Date:                Wed, 27 Mar 2024   Prob (F-statistic):           2.24e-14\n",
      "Time:                        18:31:21   Log-Likelihood:                 571.73\n",
      "No. Observations:                 240   AIC:                            -1139.\n",
      "Df Residuals:                     238   BIC:                            -1132.\n",
      "Df Model:                           1                                         \n",
      "Covariance Type:            nonrobust                                         \n",
      "==============================================================================\n",
      "                 coef    std err          t      P>|t|      [0.025      0.975]\n",
      "------------------------------------------------------------------------------\n",
      "const      -3.794e-05      0.001     -0.026      0.979      -0.003       0.003\n",
      "SP500          1.5750      0.194      8.138      0.000       1.194       1.956\n",
      "==============================================================================\n",
      "Omnibus:                       49.097   Durbin-Watson:                   2.173\n",
      "Prob(Omnibus):                  0.000   Jarque-Bera (JB):              456.151\n",
      "Skew:                           0.414   Prob(JB):                    8.87e-100\n",
      "Kurtosis:                       9.703   Cond. No.                         134.\n",
      "==============================================================================\n",
      "\n",
      "Notes:\n",
      "[1] Standard Errors assume that the covariance matrix of the errors is correctly specified.\n"
     ]
    }
   ],
   "source": [
    "#the statsmodels.api is a useful tool in Python for regression analysis\n",
    "\n",
    "#import statsmodels.formula.api as sm\n",
    "import statsmodels.api as sm\n",
    "\n",
    "# #First we look at the linear model regresson for TESLA:\n",
    "\n",
    "#X = daily_ret.SP500\n",
    "#Y = daily_ret.TSLA\n",
    "#X = sm.add_constant(daily_ret.SP500)\n",
    "#print(X)\n",
    "\n",
    "#res_TSLA = sm.ols(formula=\"TSLA ~ SP500\", data=daily_ret).fit()\n",
    "\n",
    "res_TSLA = sm.OLS(daily_ret.TSLA, sm.add_constant(daily_ret.SP500)).fit()\n",
    "\n",
    "#res_TSLA = sm.OLS(Y, X).fit() \n",
    "print(res_TSLA.summary())\n",
    "#print(res_TESLA)\n",
    "\n",
    "#print(res_TESLA.params)\n",
    "#print(res_TESLA.pvalues)\n",
    "#print(res_TESLA.resid)\n",
    "\n",
    "#resi = res_TSLA.resid\n",
    "#print(resi.mean())"
   ]
  },
  {
   "cell_type": "code",
   "execution_count": null,
   "id": "69c43abf-02c7-4036-8bf8-34ab5e511791",
   "metadata": {},
   "outputs": [],
   "source": [
    "**Interpretation**\n",
    "#The model has been well-fitted, with both the R^2 and adjusted R^2 yielding relatively acceptable values\n",
    "#The F-statistic indicates that the regression model is overall significant.\n",
    "#The Durbin-Watson statistic suggests no autocorrelation in the model.\n",
    "#Of particular importance is the estimated beta coefficient, which stands at 1.5751 and is statistically significant.\n",
    "#Moreover, this suggests that the stock falls into the category of high-risk stocks because is more volatile than market index.\n",
    "#Because the coefficient for estimating Beta is 1.5751 which is statistically significant.\n",
    "#Furthermore, the p-value statistics indicate that the estimates are valid and significant at a 99% confidence level."
   ]
  },
  {
   "cell_type": "code",
   "execution_count": 20,
   "id": "d0546ee1-a457-494b-8940-4a09954dd891",
   "metadata": {
    "tags": []
   },
   "outputs": [
    {
     "name": "stdout",
     "output_type": "stream",
     "text": [
      "                            OLS Regression Results                            \n",
      "==============================================================================\n",
      "Dep. Variable:                     GE   R-squared:                       0.092\n",
      "Model:                            OLS   Adj. R-squared:                  0.088\n",
      "Method:                 Least Squares   F-statistic:                     24.07\n",
      "Date:                Wed, 27 Mar 2024   Prob (F-statistic):           1.73e-06\n",
      "Time:                        18:32:43   Log-Likelihood:                 506.30\n",
      "No. Observations:                 240   AIC:                            -1009.\n",
      "Df Residuals:                     238   BIC:                            -1002.\n",
      "Df Model:                           1                                         \n",
      "Covariance Type:            nonrobust                                         \n",
      "==============================================================================\n",
      "                 coef    std err          t      P>|t|      [0.025      0.975]\n",
      "------------------------------------------------------------------------------\n",
      "const          0.0001      0.002      0.059      0.953      -0.004       0.004\n",
      "SP500          1.2470      0.254      4.906      0.000       0.746       1.748\n",
      "==============================================================================\n",
      "Omnibus:                       50.317   Durbin-Watson:                   1.868\n",
      "Prob(Omnibus):                  0.000   Jarque-Bera (JB):              721.540\n",
      "Skew:                          -0.153   Prob(JB):                    2.09e-157\n",
      "Kurtosis:                      11.489   Cond. No.                         134.\n",
      "==============================================================================\n",
      "\n",
      "Notes:\n",
      "[1] Standard Errors assume that the covariance matrix of the errors is correctly specified.\n"
     ]
    }
   ],
   "source": [
    "res_GE = sm.OLS(daily_ret.GE, sm.add_constant(daily_ret.SP500)).fit()\n",
    "print(res_GE.summary())"
   ]
  },
  {
   "cell_type": "code",
   "execution_count": null,
   "id": "d26d175e-caa2-47a8-a5e7-2385f017c385",
   "metadata": {},
   "outputs": [],
   "source": [
    "**interpretation**\n",
    "#Although the model has been fitted, the R^2 and adjusted R^2 values are not relatively acceptable.\n",
    "#The F-statistic indicates that the regression model is overall significant.\n",
    "#The Durbin-Watson statistic suggests no autocorrelation in the model.\n",
    "#Of particular importance is the estimated beta coefficient, which stands at 1.2470 and is statistically significant.\n",
    "#Furthermore, this suggests that the stock falls into the category of high-risk stocks.\n",
    "#However, in comparison to Tesla, it is less risky because its Beta estimation is much lower than that one.\n",
    "#Additionally, the p-value statistics indicate that the estimates are valid and significant at a 99% confidence level."
   ]
  },
  {
   "cell_type": "markdown",
   "id": "3e763ad2-3c95-4bac-9317-44dbf04acab3",
   "metadata": {
    "tags": []
   },
   "source": [
    "# II: CAPM\n",
    "\n",
    "We need more data. Let's start getting them and continue with the rest. Please follow these steps:\n",
    "\n",
    "1. We still need to use the daily return data of TSLA and GE. They are still in the dataframe *daily_ret*.\n",
    "\n",
    "2. Now, its time to get the risk-free returns. We are going to get it from Kenneth French web page. There are a lot of ways for you to download data from a website in Python. Luckily, there is a very convenient package, *pandas_datareader*, can help you do this. Use the *get_data_famafrench* function you can get data for Fama French factors from the Kenneth French library and returns it as a Pandas dataframe.\n",
    "\n",
    "3. Try to use the *get_data_famafrench('F-F_Research_Data_5_Factors_2x3_daily', startdate, enddate)[0]* to get Fama/French 3 Factors (daily). Keep the daily values which can match our stock daily returns. Bring the columns with names Mkt-RF (it is market excess return, market return subtracted by risk-free return; ), SMB (Small minus Big), HML (High minus Low), RF (risk-free rate). You should divide each value by 100. **(Note: Here, we are using the Market return estimates in the Kenneth French website. This is actually the value-weight return of all CRSP firms incorporated in the US and listed on the NYSE, AMEX, or NASDAQ. This estimate of the market return is widely used in research, and it is highly correlated to the S&P 500.)**  \n",
    "\n",
    "4. Compute the excess returns for TSLA and GE (stock returns minus risk-free rate). Construct these new columns as *TSLA_Excess*, *GE_Excess*. \n",
    "5. We have the excess returns for the stocks and excess returns for the market. Now, let's see what we want to estimate. \n",
    "6. The CAPM model is as follows:$$E[{R_{i}}] = R_{F} + \\beta_{i}E[R_{M} - R_{F}]$$  $$E[{R_{i}}-R_{F} ] = \\beta_{i}E[R_{M} - R_{F}] $$ So, we need to regress excess returns for the stocks on the market excess returns. **(Note: In regression, we are going to consider a constant as $ a_{i} $. So, we are estimating: $$  R_{it} - R_{F}  = a_{i} + \\beta_{i}[R_{Mt} - R_{F}] + {e}_{it}  $$ $ a_{i} $ is Jensen's alpha.**"
   ]
  },
  {
   "cell_type": "code",
   "execution_count": 21,
   "id": "e0c9ec40-33a6-4fc3-b708-a3f2b99ca4c1",
   "metadata": {
    "tags": []
   },
   "outputs": [
    {
     "name": "stdout",
     "output_type": "stream",
     "text": [
      "Requirement already satisfied: pandas_datareader in e:\\anaconda\\lib\\site-packages (0.10.0)\n",
      "Requirement already satisfied: lxml in e:\\anaconda\\lib\\site-packages (from pandas_datareader) (4.9.3)\n",
      "Requirement already satisfied: pandas>=0.23 in e:\\anaconda\\lib\\site-packages (from pandas_datareader) (2.0.3)\n",
      "Requirement already satisfied: requests>=2.19.0 in c:\\users\\hadi\\appdata\\roaming\\python\\python311\\site-packages (from pandas_datareader) (2.31.0)\n",
      "Requirement already satisfied: python-dateutil>=2.8.2 in c:\\users\\hadi\\appdata\\roaming\\python\\python311\\site-packages (from pandas>=0.23->pandas_datareader) (2.8.2)\n",
      "Requirement already satisfied: pytz>=2020.1 in e:\\anaconda\\lib\\site-packages (from pandas>=0.23->pandas_datareader) (2023.3.post1)\n",
      "Requirement already satisfied: tzdata>=2022.1 in e:\\anaconda\\lib\\site-packages (from pandas>=0.23->pandas_datareader) (2023.3)\n",
      "Requirement already satisfied: numpy>=1.21.0 in e:\\anaconda\\lib\\site-packages (from pandas>=0.23->pandas_datareader) (1.24.3)\n",
      "Requirement already satisfied: charset-normalizer<4,>=2 in c:\\users\\hadi\\appdata\\roaming\\python\\python311\\site-packages (from requests>=2.19.0->pandas_datareader) (3.3.2)\n",
      "Requirement already satisfied: idna<4,>=2.5 in c:\\users\\hadi\\appdata\\roaming\\python\\python311\\site-packages (from requests>=2.19.0->pandas_datareader) (3.6)\n",
      "Requirement already satisfied: urllib3<3,>=1.21.1 in c:\\users\\hadi\\appdata\\roaming\\python\\python311\\site-packages (from requests>=2.19.0->pandas_datareader) (2.1.0)\n",
      "Requirement already satisfied: certifi>=2017.4.17 in c:\\users\\hadi\\appdata\\roaming\\python\\python311\\site-packages (from requests>=2.19.0->pandas_datareader) (2023.11.17)\n",
      "Requirement already satisfied: six>=1.5 in c:\\users\\hadi\\appdata\\roaming\\python\\python311\\site-packages (from python-dateutil>=2.8.2->pandas>=0.23->pandas_datareader) (1.16.0)\n"
     ]
    }
   ],
   "source": [
    "#First we need to install the pandas_datareader package:\n",
    "import sys\n",
    "!{sys.executable} -m pip install --upgrade pandas_datareader"
   ]
  },
  {
   "cell_type": "code",
   "execution_count": 28,
   "id": "7ff5efe0-4575-4a1f-b0bf-d3568c77778c",
   "metadata": {
    "tags": []
   },
   "outputs": [
    {
     "name": "stderr",
     "output_type": "stream",
     "text": [
      "C:\\Users\\Hadi\\AppData\\Local\\Temp\\ipykernel_9348\\998693882.py:5: FutureWarning: The argument 'date_parser' is deprecated and will be removed in a future version. Please use 'date_format' instead, or read your data in as 'object' dtype and then call 'to_datetime'.\n",
      "  ff = pdr.get_data_famafrench('F-F_Research_Data_5_Factors_2x3_daily',start=2019, end=2020)[0]\n"
     ]
    },
    {
     "name": "stdout",
     "output_type": "stream",
     "text": [
      "            mkt_excess     SMB     HML     RMW     CMA       RF      TSLA  \\\n",
      "2019-01-17      0.0075  0.0009 -0.0024  0.0006  0.0000  0.00010  0.017817   \n",
      "2019-01-18      0.0129 -0.0029  0.0012  0.0020 -0.0027  0.00010 -0.008753   \n",
      "2019-01-22     -0.0153 -0.0035  0.0032  0.0026  0.0034  0.00010 -0.044150   \n",
      "2019-01-23      0.0015 -0.0041 -0.0013  0.0035  0.0029  0.00010  0.008083   \n",
      "2019-01-24      0.0023  0.0048 -0.0001 -0.0015 -0.0019  0.00010  0.005727   \n",
      "...                ...     ...     ...     ...     ...      ...       ...   \n",
      "2019-12-23      0.0010  0.0016 -0.0035 -0.0013  0.0034  0.00007  0.011786   \n",
      "2019-12-24      0.0001  0.0037  0.0000 -0.0028  0.0004  0.00007  0.002688   \n",
      "2019-12-26      0.0048 -0.0056  0.0000  0.0025 -0.0018  0.00007  0.003575   \n",
      "2019-12-27     -0.0010 -0.0055 -0.0007  0.0025  0.0010  0.00007 -0.004453   \n",
      "2019-12-30     -0.0057  0.0028  0.0056  0.0011  0.0038  0.00007 -0.008944   \n",
      "\n",
      "                  GE     SP500  TSLA_excess  GE_excess  \n",
      "2019-01-17  0.003641  0.007591     0.017717   0.003541  \n",
      "2019-01-18 -0.129711  0.013183    -0.008853  -0.129811  \n",
      "2019-01-22 -0.011050 -0.014157    -0.044250  -0.011150  \n",
      "2019-01-23 -0.037903  0.002203     0.007983  -0.038003  \n",
      "2019-01-24  0.013631  0.001376     0.005627   0.013531  \n",
      "...              ...       ...          ...        ...  \n",
      "2019-12-23  0.033605  0.000866     0.011716   0.033535  \n",
      "2019-12-24  0.014384 -0.000195     0.002618   0.014314  \n",
      "2019-12-26  0.013380  0.005128     0.003505   0.013310  \n",
      "2019-12-27 -0.001300  0.000034    -0.004523  -0.001370  \n",
      "2019-12-30 -0.036433 -0.005781    -0.009014  -0.036503  \n",
      "\n",
      "[240 rows x 11 columns]\n"
     ]
    }
   ],
   "source": [
    "#import the library to easily get FF factor data\n",
    "import pandas_datareader as pdr\n",
    "#import famafrench.famafrench as ff\n",
    "\n",
    "ff = pdr.get_data_famafrench('F-F_Research_Data_5_Factors_2x3_daily',start=2019, end=2020)[0]\n",
    "# the [0] is because the imported obect is a dictionary, \n",
    "# and key=0 is the first dataframe that contains the data we need\n",
    "\n",
    "\n",
    "ff.rename(columns={\"Mkt-RF\":\"mkt_excess\"}, inplace=True)\n",
    "ff = ff/100\n",
    "ff = ff.join(daily_ret,how='inner')\n",
    "\n",
    "# convert to excess returns in prep for regressions\n",
    "for stock in ['TSLA', 'GE']:    \n",
    "    ff[stock+'_excess'] = ff[stock] - ff['RF']\n",
    "\n",
    "print(ff)"
   ]
  },
  {
   "cell_type": "code",
   "execution_count": 29,
   "id": "26ad021b-434a-498f-ac50-c510b92c0d6c",
   "metadata": {
    "tags": []
   },
   "outputs": [],
   "source": [
    "import statsmodels.api as sm"
   ]
  },
  {
   "cell_type": "code",
   "execution_count": 30,
   "id": "f7444cc3-b9a7-4f92-a1de-629eb09bcd45",
   "metadata": {
    "tags": []
   },
   "outputs": [
    {
     "name": "stdout",
     "output_type": "stream",
     "text": [
      "                            OLS Regression Results                            \n",
      "==============================================================================\n",
      "Dep. Variable:            TSLA_excess   R-squared:                       0.232\n",
      "Model:                            OLS   Adj. R-squared:                  0.229\n",
      "Method:                 Least Squares   F-statistic:                     71.98\n",
      "Date:                Wed, 27 Mar 2024   Prob (F-statistic):           2.33e-15\n",
      "Time:                        20:54:36   Log-Likelihood:                 573.98\n",
      "No. Observations:                 240   AIC:                            -1144.\n",
      "Df Residuals:                     238   BIC:                            -1137.\n",
      "Df Model:                           1                                         \n",
      "Covariance Type:            nonrobust                                         \n",
      "==============================================================================\n",
      "                 coef    std err          t      P>|t|      [0.025      0.975]\n",
      "------------------------------------------------------------------------------\n",
      "const      -7.004e-06      0.001     -0.005      0.996      -0.003       0.003\n",
      "mkt_excess     1.5506      0.183      8.484      0.000       1.191       1.911\n",
      "==============================================================================\n",
      "Omnibus:                       50.745   Durbin-Watson:                   2.161\n",
      "Prob(Omnibus):                  0.000   Jarque-Bera (JB):              472.716\n",
      "Skew:                           0.451   Prob(JB):                    2.24e-103\n",
      "Kurtosis:                       9.816   Cond. No.                         127.\n",
      "==============================================================================\n",
      "\n",
      "Notes:\n",
      "[1] Standard Errors assume that the covariance matrix of the errors is correctly specified.\n"
     ]
    }
   ],
   "source": [
    "y=ff.TSLA_excess\n",
    "x=ff.mkt_excess\n",
    "res_TSLA = sm.OLS(y, sm.add_constant(x)).fit()\n",
    "print(res_TSLA.summary())"
   ]
  },
  {
   "cell_type": "code",
   "execution_count": null,
   "id": "52f0d438-1d59-4ed9-955e-5134e1dd2662",
   "metadata": {},
   "outputs": [],
   "source": [
    "**Interpretation**\n",
    "#The model has been well-fitted, with both the R^2 and adjusted R^2 yielding relatively acceptable values\n",
    "#The F-statistic indicates that the regression model is overall significant.\n",
    "#The Durbin-Watson statistic suggests no autocorrelation in the model.\n",
    "#Of particular importance is the estimated beta coefficient, which stands at 1.5506 and is statistically significant.\n",
    "#Moreover, this suggests that the stock falls into the category of high-risk stocks\n",
    "#Because the coefficient for estimating Beta is 1.5506 which is statistically significant.\n",
    "#Furthermore, the p-value statistics indicate that the estimates are valid and significant at a 99% confidence level."
   ]
  },
  {
   "cell_type": "code",
   "execution_count": 26,
   "id": "b90527a2-8673-4a81-ae1e-f36fe3959ae4",
   "metadata": {
    "tags": []
   },
   "outputs": [
    {
     "name": "stdout",
     "output_type": "stream",
     "text": [
      "                            OLS Regression Results                            \n",
      "==============================================================================\n",
      "Dep. Variable:              GE_excess   R-squared:                       0.104\n",
      "Model:                            OLS   Adj. R-squared:                  0.100\n",
      "Method:                 Least Squares   F-statistic:                     27.66\n",
      "Date:                Wed, 27 Mar 2024   Prob (F-statistic):           3.23e-07\n",
      "Time:                        20:53:42   Log-Likelihood:                 507.92\n",
      "No. Observations:                 240   AIC:                            -1012.\n",
      "Df Residuals:                     238   BIC:                            -1005.\n",
      "Df Model:                           1                                         \n",
      "Covariance Type:            nonrobust                                         \n",
      "==============================================================================\n",
      "                 coef    std err          t      P>|t|      [0.025      0.975]\n",
      "------------------------------------------------------------------------------\n",
      "const       8.883e-05      0.002      0.047      0.963      -0.004       0.004\n",
      "mkt_excess     1.2657      0.241      5.259      0.000       0.792       1.740\n",
      "==============================================================================\n",
      "Omnibus:                       50.697   Durbin-Watson:                   1.866\n",
      "Prob(Omnibus):                  0.000   Jarque-Bera (JB):              736.578\n",
      "Skew:                          -0.158   Prob(JB):                    1.13e-160\n",
      "Kurtosis:                      11.577   Cond. No.                         127.\n",
      "==============================================================================\n",
      "\n",
      "Notes:\n",
      "[1] Standard Errors assume that the covariance matrix of the errors is correctly specified.\n"
     ]
    }
   ],
   "source": [
    "y=ff.GE_excess\n",
    "x=ff.mkt_excess\n",
    "res_TSLA = sm.OLS(y, sm.add_constant(x)).fit()\n",
    "print(res_TSLA.summary())"
   ]
  },
  {
   "cell_type": "code",
   "execution_count": null,
   "id": "f58a4422-1b54-43d0-930c-112574899f57",
   "metadata": {},
   "outputs": [],
   "source": [
    "**interpretation**\n",
    "#Although the model has been fitted, the R^2 and adjusted R^2 values are not relatively acceptable.\n",
    "#The F-statistic indicates that the regression model is overall significant.\n",
    "#The Durbin-Watson statistic suggests no autocorrelation in the model.\n",
    "#Of particular importance is the estimated beta coefficient, which stands at 1.2657 and is statistically significant.\n",
    "#Furthermore, this suggests that the stock falls into the category of high-risk stocks\n",
    "#However, in comparison to Tesla, it is less risky because its Beta estimation is much lower than that one.\n",
    "#Additionally, the p-value statistics indicate that the estimates are valid and significant at a 99% confidence level."
   ]
  },
  {
   "cell_type": "markdown",
   "id": "5af793c1-a6eb-43ed-a075-734f97de8384",
   "metadata": {},
   "source": [
    "# III: APT\n",
    "\n",
    "1. Continue to use the excess returns for the stocks, Market Excess return (Mkt-Rf), SMB, and HML that we have got previously\n",
    "\n",
    "2. We are going to run a factor model as follows:\n",
    "$$  R_{it}-R_F = a_{i} + \\beta_{1}(Mkt-RF)_t + \\beta_{2}SMB_t + \\beta_{3}HML_t + e_{it}   $$\n",
    "\n",
    "3. Let's estimate this model for each stock. **Note: Choose three columns of (Mkt-Rf), SMB, and HML, at the the same time as the independent variables.** \n",
    "\n",
    "4. Find coefficients $\\beta_{1} $, $\\beta_{2} $ and $\\beta_{3} $. \n",
    "5. Are they significant? What do they mean? Discuss it for each stock. Check the constant."
   ]
  },
  {
   "cell_type": "code",
   "execution_count": 31,
   "id": "ccbf2b56-3952-4e6c-b547-274cc95f84c2",
   "metadata": {
    "tags": []
   },
   "outputs": [
    {
     "name": "stdout",
     "output_type": "stream",
     "text": [
      "                            OLS Regression Results                            \n",
      "==============================================================================\n",
      "Dep. Variable:            TSLA_excess   R-squared:                       0.268\n",
      "Model:                            OLS   Adj. R-squared:                  0.258\n",
      "Method:                 Least Squares   F-statistic:                     28.75\n",
      "Date:                Wed, 27 Mar 2024   Prob (F-statistic):           7.00e-16\n",
      "Time:                        20:57:06   Log-Likelihood:                 579.65\n",
      "No. Observations:                 240   AIC:                            -1151.\n",
      "Df Residuals:                     236   BIC:                            -1137.\n",
      "Df Model:                           3                                         \n",
      "Covariance Type:            nonrobust                                         \n",
      "==============================================================================\n",
      "                 coef    std err          t      P>|t|      [0.025      0.975]\n",
      "------------------------------------------------------------------------------\n",
      "const          0.0005      0.001      0.332      0.740      -0.002       0.003\n",
      "mkt_excess     1.4429      0.187      7.701      0.000       1.074       1.812\n",
      "SMB            0.7141      0.312      2.290      0.023       0.100       1.328\n",
      "HML            0.4046      0.260      1.556      0.121      -0.108       0.917\n",
      "==============================================================================\n",
      "Omnibus:                       71.132   Durbin-Watson:                   2.113\n",
      "Prob(Omnibus):                  0.000   Jarque-Bera (JB):              695.885\n",
      "Skew:                           0.830   Prob(JB):                    7.77e-152\n",
      "Kurtosis:                      11.175   Cond. No.                         244.\n",
      "==============================================================================\n",
      "\n",
      "Notes:\n",
      "[1] Standard Errors assume that the covariance matrix of the errors is correctly specified.\n"
     ]
    }
   ],
   "source": [
    "x=ff[['mkt_excess', 'SMB', 'HML']]\n",
    "y=ff.TSLA_excess\n",
    "res_TSLA = sm.OLS(y,sm.add_constant(x)).fit()\n",
    "print(res_TSLA.summary())"
   ]
  },
  {
   "cell_type": "code",
   "execution_count": null,
   "id": "d8b6321c-be11-47ce-b512-12e9d6ae6a74",
   "metadata": {},
   "outputs": [],
   "source": [
    "**Interpretation**\n",
    "#Although the model has been fitted, the R^2 and adjusted R^2 values are not relatively acceptable and improved.\n",
    "#The F-statistic indicates that the regression model is overall significant.\n",
    "#The Durbin-Watson statistic suggests no autocorrelation in the model.\n",
    "#Of particular importance is the estimated beta coefficient, which stands at 1.4429 and is statistically significant.\n",
    "#Furthermore, this suggests that the stock falls into the category of high-risk stocks\n",
    "#Additionally, the p-value statistics indicate that the estimates are valid and significant at a 99% confidence level."
   ]
  },
  {
   "cell_type": "code",
   "execution_count": 32,
   "id": "cb38879c-71e4-4ebd-b1ae-fd08cd62fdce",
   "metadata": {},
   "outputs": [
    {
     "name": "stdout",
     "output_type": "stream",
     "text": [
      "                            OLS Regression Results                            \n",
      "==============================================================================\n",
      "Dep. Variable:              GE_excess   R-squared:                       0.119\n",
      "Model:                            OLS   Adj. R-squared:                  0.108\n",
      "Method:                 Least Squares   F-statistic:                     10.60\n",
      "Date:                Wed, 27 Mar 2024   Prob (F-statistic):           1.46e-06\n",
      "Time:                        20:57:20   Log-Likelihood:                 509.89\n",
      "No. Observations:                 240   AIC:                            -1012.\n",
      "Df Residuals:                     236   BIC:                            -997.9\n",
      "Df Model:                           3                                         \n",
      "Covariance Type:            nonrobust                                         \n",
      "==============================================================================\n",
      "                 coef    std err          t      P>|t|      [0.025      0.975]\n",
      "------------------------------------------------------------------------------\n",
      "const          0.0004      0.002      0.191      0.848      -0.003       0.004\n",
      "mkt_excess     1.1216      0.251      4.477      0.000       0.628       1.615\n",
      "SMB            0.8222      0.417      1.972      0.050       0.001       1.644\n",
      "HML           -0.2851      0.348     -0.820      0.413      -0.970       0.400\n",
      "==============================================================================\n",
      "Omnibus:                       49.990   Durbin-Watson:                   1.858\n",
      "Prob(Omnibus):                  0.000   Jarque-Bera (JB):              748.441\n",
      "Skew:                          -0.043   Prob(JB):                    3.01e-163\n",
      "Kurtosis:                      11.651   Cond. No.                         244.\n",
      "==============================================================================\n",
      "\n",
      "Notes:\n",
      "[1] Standard Errors assume that the covariance matrix of the errors is correctly specified.\n"
     ]
    }
   ],
   "source": [
    "x = ff[['mkt_excess', 'SMB', 'HML']]\n",
    "y = ff.GE_excess\n",
    "\n",
    "res_GE = sm.OLS(y,sm.add_constant(x)).fit()\n",
    "print(res_GE.summary())"
   ]
  },
  {
   "cell_type": "code",
   "execution_count": null,
   "id": "f5e2e4ca-6fe5-4216-947b-8bd0fd1ee539",
   "metadata": {},
   "outputs": [],
   "source": [
    "**Interpretation**\n",
    "#Although the model has been fitted, the R^2 and adjusted R^2 values are not relatively acceptable and improved.\n",
    "#The F-statistic indicates that the regression model is overall significant.\n",
    "#The Durbin-Watson statistic suggests no autocorrelation in the model.\n",
    "#Of particular importance is the estimated beta coefficient, which stands at 1.1216 and is statistically significant.\n",
    "#Furthermore, this suggests that the stock falls into the category of high-risk stocks.\n",
    "#GE is less volatile than TSLA thus it is less risky, it might be a good suggestion for risk-averse investores.\n",
    "#Additionally, the p-value statistics indicate that the estimates are valid and significant at a 99% confidence level."
   ]
  },
  {
   "cell_type": "markdown",
   "id": "9ae6b81f-61b4-4b3a-9784-adbead56248e",
   "metadata": {},
   "source": [
    "# IV: APT continued\n",
    "\n",
    "We are going to build a portfolio and compute its betas.\n",
    "\n",
    "1. Create a portfolio with $w_{1} = 0.5$ in TSLA and $w_{2} =0.5$ in GE.\n",
    "2. Estimate the following factor model for this portfolio:\n",
    "$$  R_{it} -R_F = a_{i} + \\beta_{1}(Mkt-RF)_t + \\beta_{2}SMB_t + \\beta_{3}HML_t + e_{it}  $$\n",
    "3. Now, you have beta values for Market excess return, SMB and HML. \n",
    "4. Compare the values you estimated to the individual betas you estimated in the last Task for Market excess return, SMB and HML. Is the portfolio beta the weighted average of betas estimated for each stock?  "
   ]
  },
  {
   "cell_type": "code",
   "execution_count": 33,
   "id": "1ef51fa3-a4c9-4a4c-a2e6-144e8df948c6",
   "metadata": {
    "tags": []
   },
   "outputs": [],
   "source": [
    "import statsmodels.api as sm"
   ]
  },
  {
   "cell_type": "code",
   "execution_count": 34,
   "id": "c8ccdfad-d10d-4cdc-a212-f523546fc028",
   "metadata": {
    "tags": []
   },
   "outputs": [
    {
     "name": "stdout",
     "output_type": "stream",
     "text": [
      "                            OLS Regression Results                            \n",
      "==============================================================================\n",
      "Dep. Variable:            port_excess   R-squared:                       0.282\n",
      "Model:                            OLS   Adj. R-squared:                  0.273\n",
      "Method:                 Least Squares   F-statistic:                     30.95\n",
      "Date:                Wed, 27 Mar 2024   Prob (F-statistic):           6.60e-17\n",
      "Time:                        20:58:53   Log-Likelihood:                 615.13\n",
      "No. Observations:                 240   AIC:                            -1222.\n",
      "Df Residuals:                     236   BIC:                            -1208.\n",
      "Df Model:                           3                                         \n",
      "Covariance Type:            nonrobust                                         \n",
      "==============================================================================\n",
      "                 coef    std err          t      P>|t|      [0.025      0.975]\n",
      "------------------------------------------------------------------------------\n",
      "const          0.0004      0.001      0.341      0.733      -0.002       0.003\n",
      "mkt_excess     1.2823      0.162      7.934      0.000       0.964       1.601\n",
      "SMB            0.7682      0.269      2.856      0.005       0.238       1.298\n",
      "HML            0.0598      0.224      0.266      0.790      -0.382       0.502\n",
      "==============================================================================\n",
      "Omnibus:                       33.309   Durbin-Watson:                   1.838\n",
      "Prob(Omnibus):                  0.000   Jarque-Bera (JB):              134.430\n",
      "Skew:                          -0.439   Prob(JB):                     6.44e-30\n",
      "Kurtosis:                       6.560   Cond. No.                         244.\n",
      "==============================================================================\n",
      "\n",
      "Notes:\n",
      "[1] Standard Errors assume that the covariance matrix of the errors is correctly specified.\n"
     ]
    }
   ],
   "source": [
    "ff['port_excess']=0.5*ff['TSLA']+0.5*ff['GE']-ff['RF']\n",
    "x=ff[['mkt_excess', 'SMB','HML']]\n",
    "y=ff.port_excess\n",
    "res_port= sm.OLS(y, sm.add_constant(x)).fit()\n",
    "print(res_port.summary())"
   ]
  },
  {
   "cell_type": "code",
   "execution_count": null,
   "id": "25206d2a-d31d-4675-852f-69d5ae4a0c01",
   "metadata": {},
   "outputs": [],
   "source": [
    "#Although the model has been fitted, the R^2 and adjusted R^2 values are not relatively acceptable and improved also.\n",
    "#Considering that R^2 has improved, but the variable HML is not statistically significant,\n",
    "#it is recommended to conduct heteroscedasticity tests or examine the behavior of the residual variable.\n",
    "#The F-statistic indicates that the regression model is overall significant.\n",
    "#The Durbin-Watson statistic suggests no autocorrelation in the model.\n",
    "#Of particular importance is the estimated beta coefficient, which stands at 1.2823 and is statistically significant.\n",
    "#SMB is is statistically significant but the intercept and HML arent statistically significant.\n",
    "#Furthermore, this suggests that the stock falls into the category of high-risk stocks\n",
    "#Additionally, the p-value statistics indicate that the estimates are valid and significant at a 99% confidence level.\n",
    "                       ***Suggestion***\n",
    "##The results show that diversification and mixing various assets in a recommended portfolio is a professional approach##"
   ]
  },
  {
   "cell_type": "code",
   "execution_count": 41,
   "id": "f96297e4-468f-4923-81c7-e734317bf8b7",
   "metadata": {
    "tags": []
   },
   "outputs": [
    {
     "name": "stdout",
     "output_type": "stream",
     "text": [
      "Excess Retutn of portfolio annually(%) = 10.08\n"
     ]
    }
   ],
   "source": [
    "#excess retutn of portfolio annually\n",
    "print('Excess Retutn of portfolio annually(%) =', 0.0004*252*100)"
   ]
  },
  {
   "cell_type": "code",
   "execution_count": 45,
   "id": "2bd2fc91-3e31-4f20-acec-779538fce8b5",
   "metadata": {
    "tags": []
   },
   "outputs": [
    {
     "name": "stdout",
     "output_type": "stream",
     "text": [
      "Standard Error of portfolio(%) = 25.2\n"
     ]
    }
   ],
   "source": [
    "#standard error of constant is :\n",
    "print('Standard Error of portfolio(%) =', 0.001*252*100)\n",
    "#which is 25% and it means our excess return is fluctuated\n",
    "#because \"t\"  is high and \"p-value\" is low on market excess it shows that this test is good fit, it avoids type I error"
   ]
  },
  {
   "cell_type": "markdown",
   "id": "d4eb4eff-c019-4649-997b-0da66daa46a1",
   "metadata": {},
   "source": [
    "## End"
   ]
  }
 ],
 "metadata": {
  "kernelspec": {
   "display_name": "Python 3 (ipykernel)",
   "language": "python",
   "name": "python3"
  },
  "language_info": {
   "codemirror_mode": {
    "name": "ipython",
    "version": 3
   },
   "file_extension": ".py",
   "mimetype": "text/x-python",
   "name": "python",
   "nbconvert_exporter": "python",
   "pygments_lexer": "ipython3",
   "version": "3.11.5"
  }
 },
 "nbformat": 4,
 "nbformat_minor": 5
}
